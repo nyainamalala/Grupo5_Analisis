{
 "cells": [
  {
   "cell_type": "code",
   "execution_count": 1,
   "metadata": {},
   "outputs": [],
   "source": [
    "import numpy as np\n",
    "import pandas as pd\n",
    "import matplotlib.pyplot as plt"
   ]
  },
  {
   "attachments": {},
   "cell_type": "markdown",
   "metadata": {},
   "source": [
    "Población\n"
   ]
  },
  {
   "cell_type": "code",
   "execution_count": 4,
   "metadata": {},
   "outputs": [
    {
     "data": {
      "text/html": [
       "<div>\n",
       "<style scoped>\n",
       "    .dataframe tbody tr th:only-of-type {\n",
       "        vertical-align: middle;\n",
       "    }\n",
       "\n",
       "    .dataframe tbody tr th {\n",
       "        vertical-align: top;\n",
       "    }\n",
       "\n",
       "    .dataframe thead th {\n",
       "        text-align: right;\n",
       "    }\n",
       "</style>\n",
       "<table border=\"1\" class=\"dataframe\">\n",
       "  <thead>\n",
       "    <tr style=\"text-align: right;\">\n",
       "      <th></th>\n",
       "      <th>El municipio en cifras</th>\n",
       "    </tr>\n",
       "  </thead>\n",
       "  <tbody>\n",
       "    <tr>\n",
       "      <th>0</th>\n",
       "      <td>Poblacion</td>\n",
       "    </tr>\n",
       "    <tr>\n",
       "      <th>1</th>\n",
       "      <td>Año;Periodos;Madrid;</td>\n",
       "    </tr>\n",
       "    <tr>\n",
       "      <th>2</th>\n",
       "      <td>1987;Anual;3100507;</td>\n",
       "    </tr>\n",
       "    <tr>\n",
       "      <th>3</th>\n",
       "      <td>1988;Anual;3102846;</td>\n",
       "    </tr>\n",
       "    <tr>\n",
       "      <th>4</th>\n",
       "      <td>1989;Anual;3108463;</td>\n",
       "    </tr>\n",
       "  </tbody>\n",
       "</table>\n",
       "</div>"
      ],
      "text/plain": [
       "  El municipio en cifras\n",
       "0              Poblacion\n",
       "1   Año;Periodos;Madrid;\n",
       "2    1987;Anual;3100507;\n",
       "3    1988;Anual;3102846;\n",
       "4    1989;Anual;3108463;"
      ]
     },
     "execution_count": 4,
     "metadata": {},
     "output_type": "execute_result"
    }
   ],
   "source": [
    "df = pd.read_csv('../../Data/FuentesOriginales/MADRID/Madrid_en_cifras_2021A.csv')\n",
    "df.head()"
   ]
  },
  {
   "cell_type": "code",
   "execution_count": 6,
   "metadata": {},
   "outputs": [
    {
     "data": {
      "text/plain": [
       "<bound method DataFrame.info of    El municipio en cifras\n",
       "0               Poblacion\n",
       "1    Año;Periodos;Madrid;\n",
       "2     1987;Anual;3100507;\n",
       "3     1988;Anual;3102846;\n",
       "4     1989;Anual;3108463;\n",
       "5     1990;Anual;3120733;\n",
       "6     1991;Anual;3010492;\n",
       "7     1992;Anual;3017439;\n",
       "8     1993;Anual;3037977;\n",
       "9     1994;Anual;3041101;\n",
       "10    1995;Anual;3029734;\n",
       "11    1996;Anual;2866850;\n",
       "12    1997;Anual;2882971;\n",
       "13    1998;Anual;2899091;\n",
       "14    1999;Anual;2905136;\n",
       "15    2000;Anual;2903903;\n",
       "16    2001;Anual;2982926;\n",
       "17    2002;Anual;3043535;\n",
       "18    2003;Anual;3124892;\n",
       "19    2004;Anual;3162304;\n",
       "20    2005;Anual;3167424;\n",
       "21    2006;Anual;3205334;\n",
       "22    2007;Anual;3187062;\n",
       "23    2008;Anual;3238208;\n",
       "24    2009;Anual;3273006;\n",
       "25    2010;Anual;3284110;\n",
       "26    2011;Anual;3269861;\n",
       "27    2012;Anual;3237937;\n",
       "28    2013;Anual;3215633;\n",
       "29    2014;Anual;3166130;\n",
       "30    2015;Anual;3141991;\n",
       "31    2016;Anual;3165883;\n",
       "32    2017;Anual;3182175;\n",
       "33    2018;Anual;3221824;\n",
       "34    2019;Anual;3266126;\n",
       "35    2020;Anual;3334730;\n",
       "36    2021;Anual;3312310;\n",
       "37    2022;Anual;3286662;>"
      ]
     },
     "execution_count": 6,
     "metadata": {},
     "output_type": "execute_result"
    }
   ],
   "source": [
    "df.info"
   ]
  },
  {
   "cell_type": "code",
   "execution_count": 7,
   "metadata": {},
   "outputs": [
    {
     "data": {
      "text/plain": [
       "<bound method NDFrame.describe of    El municipio en cifras\n",
       "0               Poblacion\n",
       "1    Año;Periodos;Madrid;\n",
       "2     1987;Anual;3100507;\n",
       "3     1988;Anual;3102846;\n",
       "4     1989;Anual;3108463;\n",
       "5     1990;Anual;3120733;\n",
       "6     1991;Anual;3010492;\n",
       "7     1992;Anual;3017439;\n",
       "8     1993;Anual;3037977;\n",
       "9     1994;Anual;3041101;\n",
       "10    1995;Anual;3029734;\n",
       "11    1996;Anual;2866850;\n",
       "12    1997;Anual;2882971;\n",
       "13    1998;Anual;2899091;\n",
       "14    1999;Anual;2905136;\n",
       "15    2000;Anual;2903903;\n",
       "16    2001;Anual;2982926;\n",
       "17    2002;Anual;3043535;\n",
       "18    2003;Anual;3124892;\n",
       "19    2004;Anual;3162304;\n",
       "20    2005;Anual;3167424;\n",
       "21    2006;Anual;3205334;\n",
       "22    2007;Anual;3187062;\n",
       "23    2008;Anual;3238208;\n",
       "24    2009;Anual;3273006;\n",
       "25    2010;Anual;3284110;\n",
       "26    2011;Anual;3269861;\n",
       "27    2012;Anual;3237937;\n",
       "28    2013;Anual;3215633;\n",
       "29    2014;Anual;3166130;\n",
       "30    2015;Anual;3141991;\n",
       "31    2016;Anual;3165883;\n",
       "32    2017;Anual;3182175;\n",
       "33    2018;Anual;3221824;\n",
       "34    2019;Anual;3266126;\n",
       "35    2020;Anual;3334730;\n",
       "36    2021;Anual;3312310;\n",
       "37    2022;Anual;3286662;>"
      ]
     },
     "execution_count": 7,
     "metadata": {},
     "output_type": "execute_result"
    }
   ],
   "source": [
    "df.describe"
   ]
  },
  {
   "cell_type": "code",
   "execution_count": 8,
   "metadata": {},
   "outputs": [
    {
     "data": {
      "text/plain": [
       "El municipio en cifras    object\n",
       "dtype: object"
      ]
     },
     "execution_count": 8,
     "metadata": {},
     "output_type": "execute_result"
    }
   ],
   "source": [
    "df.dtypes"
   ]
  },
  {
   "cell_type": "code",
   "execution_count": 9,
   "metadata": {},
   "outputs": [
    {
     "data": {
      "text/plain": [
       "Index(['El municipio en cifras'], dtype='object')"
      ]
     },
     "execution_count": 9,
     "metadata": {},
     "output_type": "execute_result"
    }
   ],
   "source": [
    "df.columns"
   ]
  },
  {
   "cell_type": "code",
   "execution_count": 13,
   "metadata": {},
   "outputs": [
    {
     "ename": "KeyError",
     "evalue": "'Poblacion'",
     "output_type": "error",
     "traceback": [
      "\u001b[1;31m---------------------------------------------------------------------------\u001b[0m",
      "\u001b[1;31mKeyError\u001b[0m                                  Traceback (most recent call last)",
      "File \u001b[1;32mc:\\Users\\migue\\AppData\\Local\\Programs\\Python\\Python310-32\\lib\\site-packages\\pandas\\core\\indexes\\base.py:3652\u001b[0m, in \u001b[0;36mIndex.get_loc\u001b[1;34m(self, key)\u001b[0m\n\u001b[0;32m   3651\u001b[0m \u001b[39mtry\u001b[39;00m:\n\u001b[1;32m-> 3652\u001b[0m     \u001b[39mreturn\u001b[39;00m \u001b[39mself\u001b[39;49m\u001b[39m.\u001b[39;49m_engine\u001b[39m.\u001b[39;49mget_loc(casted_key)\n\u001b[0;32m   3653\u001b[0m \u001b[39mexcept\u001b[39;00m \u001b[39mKeyError\u001b[39;00m \u001b[39mas\u001b[39;00m err:\n",
      "File \u001b[1;32mc:\\Users\\migue\\AppData\\Local\\Programs\\Python\\Python310-32\\lib\\site-packages\\pandas\\_libs\\index.pyx:147\u001b[0m, in \u001b[0;36mpandas._libs.index.IndexEngine.get_loc\u001b[1;34m()\u001b[0m\n",
      "File \u001b[1;32mc:\\Users\\migue\\AppData\\Local\\Programs\\Python\\Python310-32\\lib\\site-packages\\pandas\\_libs\\index.pyx:176\u001b[0m, in \u001b[0;36mpandas._libs.index.IndexEngine.get_loc\u001b[1;34m()\u001b[0m\n",
      "File \u001b[1;32mpandas\\_libs\\hashtable_class_helper.pxi:7080\u001b[0m, in \u001b[0;36mpandas._libs.hashtable.PyObjectHashTable.get_item\u001b[1;34m()\u001b[0m\n",
      "File \u001b[1;32mpandas\\_libs\\hashtable_class_helper.pxi:7088\u001b[0m, in \u001b[0;36mpandas._libs.hashtable.PyObjectHashTable.get_item\u001b[1;34m()\u001b[0m\n",
      "\u001b[1;31mKeyError\u001b[0m: 'Poblacion'",
      "\nThe above exception was the direct cause of the following exception:\n",
      "\u001b[1;31mKeyError\u001b[0m                                  Traceback (most recent call last)",
      "Cell \u001b[1;32mIn[13], line 1\u001b[0m\n\u001b[1;32m----> 1\u001b[0m df[\u001b[39m'\u001b[39;49m\u001b[39mPoblacion\u001b[39;49m\u001b[39m'\u001b[39;49m]\u001b[39m.\u001b[39mplot()\n",
      "File \u001b[1;32mc:\\Users\\migue\\AppData\\Local\\Programs\\Python\\Python310-32\\lib\\site-packages\\pandas\\core\\frame.py:3761\u001b[0m, in \u001b[0;36mDataFrame.__getitem__\u001b[1;34m(self, key)\u001b[0m\n\u001b[0;32m   3759\u001b[0m \u001b[39mif\u001b[39;00m \u001b[39mself\u001b[39m\u001b[39m.\u001b[39mcolumns\u001b[39m.\u001b[39mnlevels \u001b[39m>\u001b[39m \u001b[39m1\u001b[39m:\n\u001b[0;32m   3760\u001b[0m     \u001b[39mreturn\u001b[39;00m \u001b[39mself\u001b[39m\u001b[39m.\u001b[39m_getitem_multilevel(key)\n\u001b[1;32m-> 3761\u001b[0m indexer \u001b[39m=\u001b[39m \u001b[39mself\u001b[39;49m\u001b[39m.\u001b[39;49mcolumns\u001b[39m.\u001b[39;49mget_loc(key)\n\u001b[0;32m   3762\u001b[0m \u001b[39mif\u001b[39;00m is_integer(indexer):\n\u001b[0;32m   3763\u001b[0m     indexer \u001b[39m=\u001b[39m [indexer]\n",
      "File \u001b[1;32mc:\\Users\\migue\\AppData\\Local\\Programs\\Python\\Python310-32\\lib\\site-packages\\pandas\\core\\indexes\\base.py:3654\u001b[0m, in \u001b[0;36mIndex.get_loc\u001b[1;34m(self, key)\u001b[0m\n\u001b[0;32m   3652\u001b[0m     \u001b[39mreturn\u001b[39;00m \u001b[39mself\u001b[39m\u001b[39m.\u001b[39m_engine\u001b[39m.\u001b[39mget_loc(casted_key)\n\u001b[0;32m   3653\u001b[0m \u001b[39mexcept\u001b[39;00m \u001b[39mKeyError\u001b[39;00m \u001b[39mas\u001b[39;00m err:\n\u001b[1;32m-> 3654\u001b[0m     \u001b[39mraise\u001b[39;00m \u001b[39mKeyError\u001b[39;00m(key) \u001b[39mfrom\u001b[39;00m \u001b[39merr\u001b[39;00m\n\u001b[0;32m   3655\u001b[0m \u001b[39mexcept\u001b[39;00m \u001b[39mTypeError\u001b[39;00m:\n\u001b[0;32m   3656\u001b[0m     \u001b[39m# If we have a listlike key, _check_indexing_error will raise\u001b[39;00m\n\u001b[0;32m   3657\u001b[0m     \u001b[39m#  InvalidIndexError. Otherwise we fall through and re-raise\u001b[39;00m\n\u001b[0;32m   3658\u001b[0m     \u001b[39m#  the TypeError.\u001b[39;00m\n\u001b[0;32m   3659\u001b[0m     \u001b[39mself\u001b[39m\u001b[39m.\u001b[39m_check_indexing_error(key)\n",
      "\u001b[1;31mKeyError\u001b[0m: 'Poblacion'"
     ]
    }
   ],
   "source": [
    "df['Poblacion'].plot()"
   ]
  }
 ],
 "metadata": {
  "kernelspec": {
   "display_name": "Python 3",
   "language": "python",
   "name": "python3"
  },
  "language_info": {
   "codemirror_mode": {
    "name": "ipython",
    "version": 3
   },
   "file_extension": ".py",
   "mimetype": "text/x-python",
   "name": "python",
   "nbconvert_exporter": "python",
   "pygments_lexer": "ipython3",
   "version": "3.10.11"
  },
  "orig_nbformat": 4
 },
 "nbformat": 4,
 "nbformat_minor": 2
}

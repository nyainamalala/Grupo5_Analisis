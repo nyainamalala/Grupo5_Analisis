{
 "cells": [
  {
   "cell_type": "code",
   "execution_count": 1,
   "metadata": {},
   "outputs": [],
   "source": [
    "import numpy as np\n",
    "import pandas as pd\n",
    "import matplotlib.pyplot as plt"
   ]
  },
  {
   "cell_type": "code",
   "execution_count": 5,
   "metadata": {},
   "outputs": [
    {
     "name": "stderr",
     "output_type": "stream",
     "text": [
      "C:\\Users\\migue\\AppData\\Local\\Temp\\ipykernel_7912\\3006033620.py:1: DtypeWarning: Columns (0,13,15) have mixed types. Specify dtype option on import or set low_memory=False.\n",
      "  df = pd.read_csv('../../Data/FuentesOriginales/Kaggle_OCDE/World Cities Database Population (OCT-2022).csv', sep = ';', na_filter=False)\n"
     ]
    },
    {
     "data": {
      "text/html": [
       "<div>\n",
       "<style scoped>\n",
       "    .dataframe tbody tr th:only-of-type {\n",
       "        vertical-align: middle;\n",
       "    }\n",
       "\n",
       "    .dataframe tbody tr th {\n",
       "        vertical-align: top;\n",
       "    }\n",
       "\n",
       "    .dataframe thead th {\n",
       "        text-align: right;\n",
       "    }\n",
       "</style>\n",
       "<table border=\"1\" class=\"dataframe\">\n",
       "  <thead>\n",
       "    <tr style=\"text-align: right;\">\n",
       "      <th></th>\n",
       "      <th>Geoname ID</th>\n",
       "      <th>Name</th>\n",
       "      <th>ASCII Name</th>\n",
       "      <th>Alternate Names</th>\n",
       "      <th>Feature Class</th>\n",
       "      <th>Feature Code</th>\n",
       "      <th>Country Code</th>\n",
       "      <th>Country name EN</th>\n",
       "      <th>Country Code 2</th>\n",
       "      <th>Admin1 Code</th>\n",
       "      <th>Admin2 Code</th>\n",
       "      <th>Admin3 Code</th>\n",
       "      <th>Admin4 Code</th>\n",
       "      <th>Population</th>\n",
       "      <th>Elevation</th>\n",
       "      <th>DIgital Elevation Model</th>\n",
       "      <th>Timezone</th>\n",
       "      <th>Modification date</th>\n",
       "      <th>LABEL EN</th>\n",
       "      <th>Coordinates,,,,,,,,,,,,,,,,,,,,,,,,,,,,,,,,,,,,,,,,,,,,,,,,,,,,,,,,,,,,,,,,,,,,,,,,,,,,,,,,,,,,,,,,,,,,,,,,,,,,,,,,,,,,,,,,,,,,,,,,,,,,,,,,,,,,,,,,,,,,,,,,,,,,,,,,,,,,,,,,,,,,,,,,,,,,,,,,,,,,,,,,,,,,,,,,,,,,,,,,,,,,,,,,,,,,,,,,,,,,,,,,,,,,,,,,,,,,,,,,,,,,,,,,,,,,,,,,,,,,,,,,,,,,,</th>\n",
       "    </tr>\n",
       "  </thead>\n",
       "  <tbody>\n",
       "    <tr>\n",
       "      <th>0</th>\n",
       "      <td>509184</td>\n",
       "      <td>Pizhanka</td>\n",
       "      <td>Pizhanka</td>\n",
       "      <td>Pizhanka,Pizjanka,Пижанка</td>\n",
       "      <td>P</td>\n",
       "      <td>PPL</td>\n",
       "      <td>RU</td>\n",
       "      <td>Russian Federation</td>\n",
       "      <td></td>\n",
       "      <td>33</td>\n",
       "      <td></td>\n",
       "      <td></td>\n",
       "      <td></td>\n",
       "      <td>3900</td>\n",
       "      <td></td>\n",
       "      <td>122</td>\n",
       "      <td>Europe/Kirov</td>\n",
       "      <td>2012-01-17</td>\n",
       "      <td>Russian Federation</td>\n",
       "      <td>57.46042,48.542,,,,,,,,,,,,,,,,,,,,,,,,,,,,,,,...</td>\n",
       "    </tr>\n",
       "    <tr>\n",
       "      <th>1</th>\n",
       "      <td>509273</td>\n",
       "      <td>Pitelino</td>\n",
       "      <td>Pitelino</td>\n",
       "      <td>Petelino,Pitelino,Пителино</td>\n",
       "      <td>P</td>\n",
       "      <td>PPL</td>\n",
       "      <td>RU</td>\n",
       "      <td>Russian Federation</td>\n",
       "      <td></td>\n",
       "      <td>62</td>\n",
       "      <td></td>\n",
       "      <td></td>\n",
       "      <td></td>\n",
       "      <td>2355</td>\n",
       "      <td></td>\n",
       "      <td>120</td>\n",
       "      <td>Europe/Moscow</td>\n",
       "      <td>2012-01-17</td>\n",
       "      <td>Russian Federation</td>\n",
       "      <td>54.57768,41.81448,,,,,,,,,,,,,,,,,,,,,,,,,,,,,...</td>\n",
       "    </tr>\n",
       "    <tr>\n",
       "      <th>2</th>\n",
       "      <td>510139</td>\n",
       "      <td>Petro-Slavyanka</td>\n",
       "      <td>Petro-Slavyanka</td>\n",
       "      <td>Petro-Slav'anka,Petro-Slavjanka,Petro-Slavyank...</td>\n",
       "      <td>P</td>\n",
       "      <td>PPL</td>\n",
       "      <td>RU</td>\n",
       "      <td>Russian Federation</td>\n",
       "      <td></td>\n",
       "      <td>66</td>\n",
       "      <td></td>\n",
       "      <td></td>\n",
       "      <td></td>\n",
       "      <td>1308</td>\n",
       "      <td></td>\n",
       "      <td>17</td>\n",
       "      <td>Europe/Moscow</td>\n",
       "      <td>2016-12-20</td>\n",
       "      <td>Russian Federation</td>\n",
       "      <td>59.80222,30.50694,,,,,,,,,,,,,,,,,,,,,,,,,,,,,...</td>\n",
       "    </tr>\n",
       "    <tr>\n",
       "      <th>3</th>\n",
       "      <td>513051</td>\n",
       "      <td>Palkino</td>\n",
       "      <td>Palkino</td>\n",
       "      <td>Palkino,Палкино,Պալկինո</td>\n",
       "      <td>P</td>\n",
       "      <td>PPL</td>\n",
       "      <td>RU</td>\n",
       "      <td>Russian Federation</td>\n",
       "      <td></td>\n",
       "      <td>60</td>\n",
       "      <td></td>\n",
       "      <td></td>\n",
       "      <td></td>\n",
       "      <td>3112</td>\n",
       "      <td></td>\n",
       "      <td>67</td>\n",
       "      <td>Europe/Moscow</td>\n",
       "      <td>2012-01-17</td>\n",
       "      <td>Russian Federation</td>\n",
       "      <td>57.54089,28.01257,,,,,,,,,,,,,,,,,,,,,,,,,,,,,...</td>\n",
       "    </tr>\n",
       "    <tr>\n",
       "      <th>4</th>\n",
       "      <td>514906</td>\n",
       "      <td>Orlovka</td>\n",
       "      <td>Orlovka</td>\n",
       "      <td>Orlovka,Орловка</td>\n",
       "      <td>P</td>\n",
       "      <td>PPL</td>\n",
       "      <td>RU</td>\n",
       "      <td>Russian Federation</td>\n",
       "      <td></td>\n",
       "      <td>70</td>\n",
       "      <td></td>\n",
       "      <td></td>\n",
       "      <td></td>\n",
       "      <td>3236</td>\n",
       "      <td></td>\n",
       "      <td>115</td>\n",
       "      <td>Europe/Moscow</td>\n",
       "      <td>2012-01-17</td>\n",
       "      <td>Russian Federation</td>\n",
       "      <td>44.69139,44.17444,,,,,,,,,,,,,,,,,,,,,,,,,,,,,...</td>\n",
       "    </tr>\n",
       "  </tbody>\n",
       "</table>\n",
       "</div>"
      ],
      "text/plain": [
       "  Geoname ID             Name       ASCII Name   \n",
       "0     509184         Pizhanka         Pizhanka  \\\n",
       "1     509273         Pitelino         Pitelino   \n",
       "2     510139  Petro-Slavyanka  Petro-Slavyanka   \n",
       "3     513051          Palkino          Palkino   \n",
       "4     514906          Orlovka          Orlovka   \n",
       "\n",
       "                                     Alternate Names Feature Class   \n",
       "0                          Pizhanka,Pizjanka,Пижанка             P  \\\n",
       "1                         Petelino,Pitelino,Пителино             P   \n",
       "2  Petro-Slav'anka,Petro-Slavjanka,Petro-Slavyank...             P   \n",
       "3                            Palkino,Палкино,Պալկինո             P   \n",
       "4                                    Orlovka,Орловка             P   \n",
       "\n",
       "  Feature Code Country Code     Country name EN Country Code 2 Admin1 Code   \n",
       "0          PPL           RU  Russian Federation                         33  \\\n",
       "1          PPL           RU  Russian Federation                         62   \n",
       "2          PPL           RU  Russian Federation                         66   \n",
       "3          PPL           RU  Russian Federation                         60   \n",
       "4          PPL           RU  Russian Federation                         70   \n",
       "\n",
       "  Admin2 Code Admin3 Code Admin4 Code Population Elevation   \n",
       "0                                           3900            \\\n",
       "1                                           2355             \n",
       "2                                           1308             \n",
       "3                                           3112             \n",
       "4                                           3236             \n",
       "\n",
       "  DIgital Elevation Model       Timezone Modification date   \n",
       "0                     122   Europe/Kirov        2012-01-17  \\\n",
       "1                     120  Europe/Moscow        2012-01-17   \n",
       "2                      17  Europe/Moscow        2016-12-20   \n",
       "3                      67  Europe/Moscow        2012-01-17   \n",
       "4                     115  Europe/Moscow        2012-01-17   \n",
       "\n",
       "             LABEL EN   \n",
       "0  Russian Federation  \\\n",
       "1  Russian Federation   \n",
       "2  Russian Federation   \n",
       "3  Russian Federation   \n",
       "4  Russian Federation   \n",
       "\n",
       "  Coordinates,,,,,,,,,,,,,,,,,,,,,,,,,,,,,,,,,,,,,,,,,,,,,,,,,,,,,,,,,,,,,,,,,,,,,,,,,,,,,,,,,,,,,,,,,,,,,,,,,,,,,,,,,,,,,,,,,,,,,,,,,,,,,,,,,,,,,,,,,,,,,,,,,,,,,,,,,,,,,,,,,,,,,,,,,,,,,,,,,,,,,,,,,,,,,,,,,,,,,,,,,,,,,,,,,,,,,,,,,,,,,,,,,,,,,,,,,,,,,,,,,,,,,,,,,,,,,,,,,,,,,,,,,,,,,  \n",
       "0  57.46042,48.542,,,,,,,,,,,,,,,,,,,,,,,,,,,,,,,...                                                                                                                                                                                                                                        \n",
       "1  54.57768,41.81448,,,,,,,,,,,,,,,,,,,,,,,,,,,,,...                                                                                                                                                                                                                                        \n",
       "2  59.80222,30.50694,,,,,,,,,,,,,,,,,,,,,,,,,,,,,...                                                                                                                                                                                                                                        \n",
       "3  57.54089,28.01257,,,,,,,,,,,,,,,,,,,,,,,,,,,,,...                                                                                                                                                                                                                                        \n",
       "4  44.69139,44.17444,,,,,,,,,,,,,,,,,,,,,,,,,,,,,...                                                                                                                                                                                                                                        "
      ]
     },
     "execution_count": 5,
     "metadata": {},
     "output_type": "execute_result"
    }
   ],
   "source": [
    "df = pd.read_csv('../../Data/FuentesOriginales/Kaggle_OCDE/World Cities Database Population (OCT-2022).csv', sep = ';', na_filter=False)\n",
    "df.head(5)\n"
   ]
  },
  {
   "attachments": {},
   "cell_type": "markdown",
   "metadata": {},
   "source": [
    "Let's start. There are a lot of commas in the coordinates column. First, we rename the column, and, we split the string by commas and take the first two elements"
   ]
  },
  {
   "cell_type": "code",
   "execution_count": 6,
   "metadata": {},
   "outputs": [],
   "source": [
    "column_names = list(df.columns)\n",
    "column_names[-1] = 'Coordinates'\n",
    "df.columns = column_names\n",
    "df['Coordinates'] = df['Coordinates'].apply(lambda x: str(x).split(',')[:2])"
   ]
  },
  {
   "attachments": {},
   "cell_type": "markdown",
   "metadata": {},
   "source": [
    "Now we can convert the coordinates to floats"
   ]
  },
  {
   "cell_type": "code",
   "execution_count": 7,
   "metadata": {},
   "outputs": [
    {
     "data": {
      "text/plain": [
       "0           [57.46042, 48.542]\n",
       "1         [54.57768, 41.81448]\n",
       "2         [59.80222, 30.50694]\n",
       "3         [57.54089, 28.01257]\n",
       "4         [44.69139, 44.17444]\n",
       "                  ...         \n",
       "140629    [45.72176, 33.23689]\n",
       "140630    [48.14431, 30.82103]\n",
       "140631    [44.93845, 35.15834]\n",
       "140632    [51.50208, 23.93806]\n",
       "140633    [46.30452, 29.01519]\n",
       "Name: Coordinates, Length: 140634, dtype: object"
      ]
     },
     "execution_count": 7,
     "metadata": {},
     "output_type": "execute_result"
    }
   ],
   "source": [
    "df['Coordinates']"
   ]
  },
  {
   "cell_type": "code",
   "execution_count": 8,
   "metadata": {},
   "outputs": [],
   "source": [
    "df['Latitude'] = df['Coordinates'].apply(lambda x: x[0])\n",
    "df['Longitude'] = df['Coordinates'].apply(lambda x: x[-1])"
   ]
  },
  {
   "attachments": {},
   "cell_type": "markdown",
   "metadata": {},
   "source": [
    "and convert the columns to numeric, the errors = 'coerce' is used to fill the values that are not numbers with NaN"
   ]
  },
  {
   "cell_type": "code",
   "execution_count": 9,
   "metadata": {},
   "outputs": [],
   "source": [
    "df['Latitude'] = pd.to_numeric(df['Latitude'], errors='coerce')\n",
    "df['Longitude'] = pd.to_numeric(df['Longitude'], errors='coerce')"
   ]
  },
  {
   "attachments": {},
   "cell_type": "markdown",
   "metadata": {},
   "source": [
    "Another problem is that Namibia has a country code of NA, which is the same as NaN. We can replace the NaN values with NA string"
   ]
  },
  {
   "cell_type": "code",
   "execution_count": 10,
   "metadata": {},
   "outputs": [],
   "source": [
    "df['Country Code'] = df['Country Code'].fillna('NA')"
   ]
  },
  {
   "attachments": {},
   "cell_type": "markdown",
   "metadata": {},
   "source": [
    "Now we can convert the population and elevation columns to numeric"
   ]
  },
  {
   "cell_type": "code",
   "execution_count": 11,
   "metadata": {},
   "outputs": [],
   "source": [
    "df['Population'] = df['Population'].apply(lambda x: pd.to_numeric(x, errors = 'coerce'))\n",
    "df['Elevation'] = df['Elevation'].apply(lambda x: pd.to_numeric(x,  errors = 'coerce'))"
   ]
  },
  {
   "attachments": {},
   "cell_type": "markdown",
   "metadata": {},
   "source": [
    "Now we can drop the columns that we don't need"
   ]
  },
  {
   "cell_type": "code",
   "execution_count": 12,
   "metadata": {},
   "outputs": [],
   "source": [
    "df = df.iloc[:,[1,2,3,6,7,-9,-8,-6,-4,-2,-1]]"
   ]
  },
  {
   "attachments": {},
   "cell_type": "markdown",
   "metadata": {},
   "source": [
    "Let's take a look at the missing values"
   ]
  },
  {
   "cell_type": "code",
   "execution_count": 13,
   "metadata": {},
   "outputs": [
    {
     "data": {
      "text/plain": [
       "Name                    0\n",
       "ASCII Name              0\n",
       "Alternate Names         0\n",
       "Country Code            0\n",
       "Country name EN         0\n",
       "Population              1\n",
       "Elevation          113012\n",
       "Timezone                0\n",
       "LABEL EN                0\n",
       "Latitude                2\n",
       "Longitude               2\n",
       "dtype: int64"
      ]
     },
     "execution_count": 13,
     "metadata": {},
     "output_type": "execute_result"
    }
   ],
   "source": [
    "df.isna().sum()"
   ]
  },
  {
   "attachments": {},
   "cell_type": "markdown",
   "metadata": {},
   "source": [
    "We can see that there are a lot of missing values in the elevation column. Let's delete it"
   ]
  },
  {
   "cell_type": "code",
   "execution_count": 14,
   "metadata": {},
   "outputs": [],
   "source": [
    "df = df.drop('Elevation', axis = 1)"
   ]
  },
  {
   "attachments": {},
   "cell_type": "markdown",
   "metadata": {},
   "source": [
    "Now we can drop the rows with missing values"
   ]
  },
  {
   "cell_type": "code",
   "execution_count": 15,
   "metadata": {},
   "outputs": [],
   "source": [
    "df = df.dropna()"
   ]
  },
  {
   "attachments": {},
   "cell_type": "markdown",
   "metadata": {},
   "source": [
    "Finally, we can save the dataframe to a csv file"
   ]
  },
  {
   "attachments": {},
   "cell_type": "markdown",
   "metadata": {},
   "source": [
    "FINAL RESULT"
   ]
  },
  {
   "cell_type": "code",
   "execution_count": 16,
   "metadata": {},
   "outputs": [
    {
     "data": {
      "text/html": [
       "<div>\n",
       "<style scoped>\n",
       "    .dataframe tbody tr th:only-of-type {\n",
       "        vertical-align: middle;\n",
       "    }\n",
       "\n",
       "    .dataframe tbody tr th {\n",
       "        vertical-align: top;\n",
       "    }\n",
       "\n",
       "    .dataframe thead th {\n",
       "        text-align: right;\n",
       "    }\n",
       "</style>\n",
       "<table border=\"1\" class=\"dataframe\">\n",
       "  <thead>\n",
       "    <tr style=\"text-align: right;\">\n",
       "      <th></th>\n",
       "      <th>Name</th>\n",
       "      <th>ASCII Name</th>\n",
       "      <th>Alternate Names</th>\n",
       "      <th>Country Code</th>\n",
       "      <th>Country name EN</th>\n",
       "      <th>Population</th>\n",
       "      <th>Timezone</th>\n",
       "      <th>LABEL EN</th>\n",
       "      <th>Latitude</th>\n",
       "      <th>Longitude</th>\n",
       "    </tr>\n",
       "  </thead>\n",
       "  <tbody>\n",
       "    <tr>\n",
       "      <th>0</th>\n",
       "      <td>Pizhanka</td>\n",
       "      <td>Pizhanka</td>\n",
       "      <td>Pizhanka,Pizjanka,Пижанка</td>\n",
       "      <td>RU</td>\n",
       "      <td>Russian Federation</td>\n",
       "      <td>3900.0</td>\n",
       "      <td>Europe/Kirov</td>\n",
       "      <td>Russian Federation</td>\n",
       "      <td>57.46042</td>\n",
       "      <td>48.54200</td>\n",
       "    </tr>\n",
       "    <tr>\n",
       "      <th>1</th>\n",
       "      <td>Pitelino</td>\n",
       "      <td>Pitelino</td>\n",
       "      <td>Petelino,Pitelino,Пителино</td>\n",
       "      <td>RU</td>\n",
       "      <td>Russian Federation</td>\n",
       "      <td>2355.0</td>\n",
       "      <td>Europe/Moscow</td>\n",
       "      <td>Russian Federation</td>\n",
       "      <td>54.57768</td>\n",
       "      <td>41.81448</td>\n",
       "    </tr>\n",
       "    <tr>\n",
       "      <th>2</th>\n",
       "      <td>Petro-Slavyanka</td>\n",
       "      <td>Petro-Slavyanka</td>\n",
       "      <td>Petro-Slav'anka,Petro-Slavjanka,Petro-Slavyank...</td>\n",
       "      <td>RU</td>\n",
       "      <td>Russian Federation</td>\n",
       "      <td>1308.0</td>\n",
       "      <td>Europe/Moscow</td>\n",
       "      <td>Russian Federation</td>\n",
       "      <td>59.80222</td>\n",
       "      <td>30.50694</td>\n",
       "    </tr>\n",
       "    <tr>\n",
       "      <th>3</th>\n",
       "      <td>Palkino</td>\n",
       "      <td>Palkino</td>\n",
       "      <td>Palkino,Палкино,Պալկինո</td>\n",
       "      <td>RU</td>\n",
       "      <td>Russian Federation</td>\n",
       "      <td>3112.0</td>\n",
       "      <td>Europe/Moscow</td>\n",
       "      <td>Russian Federation</td>\n",
       "      <td>57.54089</td>\n",
       "      <td>28.01257</td>\n",
       "    </tr>\n",
       "    <tr>\n",
       "      <th>4</th>\n",
       "      <td>Orlovka</td>\n",
       "      <td>Orlovka</td>\n",
       "      <td>Orlovka,Орловка</td>\n",
       "      <td>RU</td>\n",
       "      <td>Russian Federation</td>\n",
       "      <td>3236.0</td>\n",
       "      <td>Europe/Moscow</td>\n",
       "      <td>Russian Federation</td>\n",
       "      <td>44.69139</td>\n",
       "      <td>44.17444</td>\n",
       "    </tr>\n",
       "  </tbody>\n",
       "</table>\n",
       "</div>"
      ],
      "text/plain": [
       "              Name       ASCII Name   \n",
       "0         Pizhanka         Pizhanka  \\\n",
       "1         Pitelino         Pitelino   \n",
       "2  Petro-Slavyanka  Petro-Slavyanka   \n",
       "3          Palkino          Palkino   \n",
       "4          Orlovka          Orlovka   \n",
       "\n",
       "                                     Alternate Names Country Code   \n",
       "0                          Pizhanka,Pizjanka,Пижанка           RU  \\\n",
       "1                         Petelino,Pitelino,Пителино           RU   \n",
       "2  Petro-Slav'anka,Petro-Slavjanka,Petro-Slavyank...           RU   \n",
       "3                            Palkino,Палкино,Պալկինո           RU   \n",
       "4                                    Orlovka,Орловка           RU   \n",
       "\n",
       "      Country name EN  Population       Timezone            LABEL EN   \n",
       "0  Russian Federation      3900.0   Europe/Kirov  Russian Federation  \\\n",
       "1  Russian Federation      2355.0  Europe/Moscow  Russian Federation   \n",
       "2  Russian Federation      1308.0  Europe/Moscow  Russian Federation   \n",
       "3  Russian Federation      3112.0  Europe/Moscow  Russian Federation   \n",
       "4  Russian Federation      3236.0  Europe/Moscow  Russian Federation   \n",
       "\n",
       "   Latitude  Longitude  \n",
       "0  57.46042   48.54200  \n",
       "1  54.57768   41.81448  \n",
       "2  59.80222   30.50694  \n",
       "3  57.54089   28.01257  \n",
       "4  44.69139   44.17444  "
      ]
     },
     "execution_count": 16,
     "metadata": {},
     "output_type": "execute_result"
    }
   ],
   "source": [
    "df.head()"
   ]
  },
  {
   "attachments": {},
   "cell_type": "markdown",
   "metadata": {},
   "source": [
    "Now the data is clean and ready for being used in visualizations."
   ]
  }
 ],
 "metadata": {
  "kernelspec": {
   "display_name": "Python 3",
   "language": "python",
   "name": "python3"
  },
  "language_info": {
   "codemirror_mode": {
    "name": "ipython",
    "version": 3
   },
   "file_extension": ".py",
   "mimetype": "text/x-python",
   "name": "python",
   "nbconvert_exporter": "python",
   "pygments_lexer": "ipython3",
   "version": "3.10.11"
  },
  "orig_nbformat": 4
 },
 "nbformat": 4,
 "nbformat_minor": 2
}

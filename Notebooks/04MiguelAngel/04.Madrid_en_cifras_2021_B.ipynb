{
 "cells": [
  {
   "cell_type": "code",
   "execution_count": 1,
   "metadata": {},
   "outputs": [],
   "source": [
    "import numpy as np\n",
    "import pandas as pd\n",
    "import matplotlib.pyplot as plt"
   ]
  },
  {
   "attachments": {},
   "cell_type": "markdown",
   "metadata": {},
   "source": [
    "Población de los municipios de la Comunidad de Madrid"
   ]
  },
  {
   "cell_type": "code",
   "execution_count": 2,
   "metadata": {},
   "outputs": [
    {
     "data": {
      "text/html": [
       "<div>\n",
       "<style scoped>\n",
       "    .dataframe tbody tr th:only-of-type {\n",
       "        vertical-align: middle;\n",
       "    }\n",
       "\n",
       "    .dataframe tbody tr th {\n",
       "        vertical-align: top;\n",
       "    }\n",
       "\n",
       "    .dataframe thead th {\n",
       "        text-align: right;\n",
       "    }\n",
       "</style>\n",
       "<table border=\"1\" class=\"dataframe\">\n",
       "  <thead>\n",
       "    <tr style=\"text-align: right;\">\n",
       "      <th></th>\n",
       "      <th>El municipio en cifras</th>\n",
       "    </tr>\n",
       "  </thead>\n",
       "  <tbody>\n",
       "    <tr>\n",
       "      <th>0</th>\n",
       "      <td>Poblacion de los municipios de la Comunidad de...</td>\n",
       "    </tr>\n",
       "    <tr>\n",
       "      <th>1</th>\n",
       "      <td>Periodo;Anual;2021</td>\n",
       "    </tr>\n",
       "    <tr>\n",
       "      <th>2</th>\n",
       "      <td>Orden;Cod. Territorio;Territorio;Poblacion total</td>\n",
       "    </tr>\n",
       "    <tr>\n",
       "      <th>3</th>\n",
       "      <td>1;28079;Madrid;3.312.310</td>\n",
       "    </tr>\n",
       "    <tr>\n",
       "      <th>4</th>\n",
       "      <td>2;28092;Mostoles;209.639</td>\n",
       "    </tr>\n",
       "  </tbody>\n",
       "</table>\n",
       "</div>"
      ],
      "text/plain": [
       "                              El municipio en cifras\n",
       "0  Poblacion de los municipios de la Comunidad de...\n",
       "1                                 Periodo;Anual;2021\n",
       "2   Orden;Cod. Territorio;Territorio;Poblacion total\n",
       "3                           1;28079;Madrid;3.312.310\n",
       "4                           2;28092;Mostoles;209.639"
      ]
     },
     "execution_count": 2,
     "metadata": {},
     "output_type": "execute_result"
    }
   ],
   "source": [
    "df = pd.read_csv('../../Data/FuentesOriginales/MADRID/Madrid_en_cifras_2021B.csv')\n",
    "df.head()"
   ]
  },
  {
   "cell_type": "code",
   "execution_count": 4,
   "metadata": {},
   "outputs": [
    {
     "data": {
      "text/plain": [
       "<bound method NDFrame.tail of                                 El municipio en cifras\n",
       "0    Poblacion de los municipios de la Comunidad de...\n",
       "1                                   Periodo;Anual;2021\n",
       "2     Orden;Cod. Territorio;Territorio;Poblacion total\n",
       "3                             1;28079;Madrid;3.312.310\n",
       "4                             2;28092;Mostoles;209.639\n",
       "..                                                 ...\n",
       "177                   175;28118;Puebla de la Sierra;75\n",
       "178                          176;28069;Hiruela (La);72\n",
       "179                            177;28126;Robregordo;71\n",
       "180                              178;28078;Madarcos;57\n",
       "181                          179;28001;Acebeda (La);55\n",
       "\n",
       "[182 rows x 1 columns]>"
      ]
     },
     "execution_count": 4,
     "metadata": {},
     "output_type": "execute_result"
    }
   ],
   "source": [
    "df.tail"
   ]
  },
  {
   "cell_type": "code",
   "execution_count": 5,
   "metadata": {},
   "outputs": [
    {
     "data": {
      "text/plain": [
       "<bound method NDFrame.describe of                                 El municipio en cifras\n",
       "0    Poblacion de los municipios de la Comunidad de...\n",
       "1                                   Periodo;Anual;2021\n",
       "2     Orden;Cod. Territorio;Territorio;Poblacion total\n",
       "3                             1;28079;Madrid;3.312.310\n",
       "4                             2;28092;Mostoles;209.639\n",
       "..                                                 ...\n",
       "177                   175;28118;Puebla de la Sierra;75\n",
       "178                          176;28069;Hiruela (La);72\n",
       "179                            177;28126;Robregordo;71\n",
       "180                              178;28078;Madarcos;57\n",
       "181                          179;28001;Acebeda (La);55\n",
       "\n",
       "[182 rows x 1 columns]>"
      ]
     },
     "execution_count": 5,
     "metadata": {},
     "output_type": "execute_result"
    }
   ],
   "source": [
    "df.describe"
   ]
  }
 ],
 "metadata": {
  "kernelspec": {
   "display_name": "Python 3",
   "language": "python",
   "name": "python3"
  },
  "language_info": {
   "codemirror_mode": {
    "name": "ipython",
    "version": 3
   },
   "file_extension": ".py",
   "mimetype": "text/x-python",
   "name": "python",
   "nbconvert_exporter": "python",
   "pygments_lexer": "ipython3",
   "version": "3.10.11"
  },
  "orig_nbformat": 4
 },
 "nbformat": 4,
 "nbformat_minor": 2
}

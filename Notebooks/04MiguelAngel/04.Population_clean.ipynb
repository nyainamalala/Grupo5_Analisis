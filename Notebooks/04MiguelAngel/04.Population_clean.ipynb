{
 "cells": [
  {
   "cell_type": "code",
   "execution_count": 1,
   "metadata": {},
   "outputs": [
    {
     "ename": "ModuleNotFoundError",
     "evalue": "No module named 'geopandas'",
     "output_type": "error",
     "traceback": [
      "\u001b[1;31m---------------------------------------------------------------------------\u001b[0m",
      "\u001b[1;31mModuleNotFoundError\u001b[0m                       Traceback (most recent call last)",
      "Cell \u001b[1;32mIn[1], line 2\u001b[0m\n\u001b[0;32m      1\u001b[0m \u001b[39mimport\u001b[39;00m \u001b[39mpandas\u001b[39;00m \u001b[39mas\u001b[39;00m \u001b[39mpd\u001b[39;00m\n\u001b[1;32m----> 2\u001b[0m \u001b[39mimport\u001b[39;00m \u001b[39mgeopandas\u001b[39;00m \u001b[39mas\u001b[39;00m \u001b[39mgpd\u001b[39;00m\n\u001b[0;32m      3\u001b[0m \u001b[39mimport\u001b[39;00m \u001b[39mmatplotlib\u001b[39;00m\u001b[39m.\u001b[39;00m\u001b[39mpyplot\u001b[39;00m \u001b[39mas\u001b[39;00m \u001b[39mplt\u001b[39;00m\n\u001b[0;32m      4\u001b[0m \u001b[39mimport\u001b[39;00m \u001b[39mcontextily\u001b[39;00m \u001b[39mas\u001b[39;00m \u001b[39mcx\u001b[39;00m\n",
      "\u001b[1;31mModuleNotFoundError\u001b[0m: No module named 'geopandas'"
     ]
    }
   ],
   "source": [
    "import pandas as pd\n",
    "import geopandas as gpd\n",
    "import matplotlib.pyplot as plt\n",
    "import contextily as cx\n",
    "import plotly.express as px\n",
    "import folium\n",
    "from folium import plugins\n",
    "from folium.plugins import HeatMap"
   ]
  },
  {
   "cell_type": "code",
   "execution_count": null,
   "metadata": {},
   "outputs": [
    {
     "data": {
      "text/html": [
       "<div>\n",
       "<style scoped>\n",
       "    .dataframe tbody tr th:only-of-type {\n",
       "        vertical-align: middle;\n",
       "    }\n",
       "\n",
       "    .dataframe tbody tr th {\n",
       "        vertical-align: top;\n",
       "    }\n",
       "\n",
       "    .dataframe thead th {\n",
       "        text-align: right;\n",
       "    }\n",
       "</style>\n",
       "<table border=\"1\" class=\"dataframe\">\n",
       "  <thead>\n",
       "    <tr style=\"text-align: right;\">\n",
       "      <th></th>\n",
       "      <th>Name</th>\n",
       "      <th>ASCII Name</th>\n",
       "      <th>Alternate Names</th>\n",
       "      <th>Country Code</th>\n",
       "      <th>Country name EN</th>\n",
       "      <th>Population</th>\n",
       "      <th>Timezone</th>\n",
       "      <th>LABEL EN</th>\n",
       "      <th>Latitude</th>\n",
       "      <th>Longitude</th>\n",
       "    </tr>\n",
       "  </thead>\n",
       "  <tbody>\n",
       "    <tr>\n",
       "      <th>0</th>\n",
       "      <td>Pizhanka</td>\n",
       "      <td>Pizhanka</td>\n",
       "      <td>Pizhanka,Pizjanka,Пижанка</td>\n",
       "      <td>RU</td>\n",
       "      <td>Russian Federation</td>\n",
       "      <td>3900.0</td>\n",
       "      <td>Europe/Kirov</td>\n",
       "      <td>Russian Federation</td>\n",
       "      <td>57.46042</td>\n",
       "      <td>48.54200</td>\n",
       "    </tr>\n",
       "    <tr>\n",
       "      <th>1</th>\n",
       "      <td>Pitelino</td>\n",
       "      <td>Pitelino</td>\n",
       "      <td>Petelino,Pitelino,Пителино</td>\n",
       "      <td>RU</td>\n",
       "      <td>Russian Federation</td>\n",
       "      <td>2355.0</td>\n",
       "      <td>Europe/Moscow</td>\n",
       "      <td>Russian Federation</td>\n",
       "      <td>54.57768</td>\n",
       "      <td>41.81448</td>\n",
       "    </tr>\n",
       "    <tr>\n",
       "      <th>2</th>\n",
       "      <td>Petro-Slavyanka</td>\n",
       "      <td>Petro-Slavyanka</td>\n",
       "      <td>Petro-Slav'anka,Petro-Slavjanka,Petro-Slavyank...</td>\n",
       "      <td>RU</td>\n",
       "      <td>Russian Federation</td>\n",
       "      <td>1308.0</td>\n",
       "      <td>Europe/Moscow</td>\n",
       "      <td>Russian Federation</td>\n",
       "      <td>59.80222</td>\n",
       "      <td>30.50694</td>\n",
       "    </tr>\n",
       "    <tr>\n",
       "      <th>3</th>\n",
       "      <td>Palkino</td>\n",
       "      <td>Palkino</td>\n",
       "      <td>Palkino,Палкино,Պալկինո</td>\n",
       "      <td>RU</td>\n",
       "      <td>Russian Federation</td>\n",
       "      <td>3112.0</td>\n",
       "      <td>Europe/Moscow</td>\n",
       "      <td>Russian Federation</td>\n",
       "      <td>57.54089</td>\n",
       "      <td>28.01257</td>\n",
       "    </tr>\n",
       "    <tr>\n",
       "      <th>4</th>\n",
       "      <td>Orlovka</td>\n",
       "      <td>Orlovka</td>\n",
       "      <td>Orlovka,Орловка</td>\n",
       "      <td>RU</td>\n",
       "      <td>Russian Federation</td>\n",
       "      <td>3236.0</td>\n",
       "      <td>Europe/Moscow</td>\n",
       "      <td>Russian Federation</td>\n",
       "      <td>44.69139</td>\n",
       "      <td>44.17444</td>\n",
       "    </tr>\n",
       "  </tbody>\n",
       "</table>\n",
       "</div>"
      ],
      "text/plain": [
       "              Name       ASCII Name   \n",
       "0         Pizhanka         Pizhanka  \\\n",
       "1         Pitelino         Pitelino   \n",
       "2  Petro-Slavyanka  Petro-Slavyanka   \n",
       "3          Palkino          Palkino   \n",
       "4          Orlovka          Orlovka   \n",
       "\n",
       "                                     Alternate Names Country Code   \n",
       "0                          Pizhanka,Pizjanka,Пижанка           RU  \\\n",
       "1                         Petelino,Pitelino,Пителино           RU   \n",
       "2  Petro-Slav'anka,Petro-Slavjanka,Petro-Slavyank...           RU   \n",
       "3                            Palkino,Палкино,Պալկինո           RU   \n",
       "4                                    Orlovka,Орловка           RU   \n",
       "\n",
       "      Country name EN  Population       Timezone            LABEL EN   \n",
       "0  Russian Federation      3900.0   Europe/Kirov  Russian Federation  \\\n",
       "1  Russian Federation      2355.0  Europe/Moscow  Russian Federation   \n",
       "2  Russian Federation      1308.0  Europe/Moscow  Russian Federation   \n",
       "3  Russian Federation      3112.0  Europe/Moscow  Russian Federation   \n",
       "4  Russian Federation      3236.0  Europe/Moscow  Russian Federation   \n",
       "\n",
       "   Latitude  Longitude  \n",
       "0  57.46042   48.54200  \n",
       "1  54.57768   41.81448  \n",
       "2  59.80222   30.50694  \n",
       "3  57.54089   28.01257  \n",
       "4  44.69139   44.17444  "
      ]
     },
     "execution_count": 7,
     "metadata": {},
     "output_type": "execute_result"
    }
   ],
   "source": [
    "df = pd.read_csv('../../Data/FuentesOriginales/Kaggle_OCDE/population-cleaned.csv')\n",
    "df.head()"
   ]
  },
  {
   "cell_type": "code",
   "execution_count": null,
   "metadata": {},
   "outputs": [
    {
     "name": "stdout",
     "output_type": "stream",
     "text": [
      "<class 'pandas.core.frame.DataFrame'>\n",
      "RangeIndex: 140632 entries, 0 to 140631\n",
      "Data columns (total 10 columns):\n",
      " #   Column           Non-Null Count   Dtype  \n",
      "---  ------           --------------   -----  \n",
      " 0   Name             140631 non-null  object \n",
      " 1   ASCII Name       140630 non-null  object \n",
      " 2   Alternate Names  116241 non-null  object \n",
      " 3   Country Code     140587 non-null  object \n",
      " 4   Country name EN  140464 non-null  object \n",
      " 5   Population       140632 non-null  float64\n",
      " 6   Timezone         140632 non-null  object \n",
      " 7   LABEL EN         140464 non-null  object \n",
      " 8   Latitude         140632 non-null  float64\n",
      " 9   Longitude        140632 non-null  float64\n",
      "dtypes: float64(3), object(7)\n",
      "memory usage: 7.0+ MB\n"
     ]
    }
   ],
   "source": [
    "df.info()"
   ]
  },
  {
   "cell_type": "code",
   "execution_count": null,
   "metadata": {},
   "outputs": [
    {
     "ename": "NameError",
     "evalue": "name 'gpd' is not defined",
     "output_type": "error",
     "traceback": [
      "\u001b[1;31m---------------------------------------------------------------------------\u001b[0m",
      "\u001b[1;31mNameError\u001b[0m                                 Traceback (most recent call last)",
      "Cell \u001b[1;32mIn[13], line 11\u001b[0m\n\u001b[0;32m      7\u001b[0m     world\u001b[39m.\u001b[39mloc[world[\u001b[39m'\u001b[39m\u001b[39mname\u001b[39m\u001b[39m'\u001b[39m] \u001b[39m==\u001b[39m \u001b[39m'\u001b[39m\u001b[39mKosovo\u001b[39m\u001b[39m'\u001b[39m, \u001b[39m'\u001b[39m\u001b[39miso_a3\u001b[39m\u001b[39m'\u001b[39m] \u001b[39m=\u001b[39m \u001b[39m'\u001b[39m\u001b[39mRKS\u001b[39m\u001b[39m'\u001b[39m\n\u001b[0;32m      9\u001b[0m     \u001b[39mreturn\u001b[39;00m world\n\u001b[1;32m---> 11\u001b[0m world \u001b[39m=\u001b[39m load_gpd_world()\n",
      "Cell \u001b[1;32mIn[13], line 2\u001b[0m, in \u001b[0;36mload_gpd_world\u001b[1;34m()\u001b[0m\n\u001b[0;32m      1\u001b[0m \u001b[39mdef\u001b[39;00m \u001b[39mload_gpd_world\u001b[39m():\n\u001b[1;32m----> 2\u001b[0m     world \u001b[39m=\u001b[39m gpd\u001b[39m.\u001b[39mread_file(gpd\u001b[39m.\u001b[39mdatasets\u001b[39m.\u001b[39mget_path(\u001b[39m'\u001b[39m\u001b[39mnaturalearth_lowres\u001b[39m\u001b[39m'\u001b[39m))\n\u001b[0;32m      3\u001b[0m     \u001b[39m# Fix missing country codes in data...\u001b[39;00m\n\u001b[0;32m      4\u001b[0m     world\u001b[39m.\u001b[39mloc[world[\u001b[39m'\u001b[39m\u001b[39mname\u001b[39m\u001b[39m'\u001b[39m] \u001b[39m==\u001b[39m \u001b[39m'\u001b[39m\u001b[39mFrance\u001b[39m\u001b[39m'\u001b[39m, \u001b[39m'\u001b[39m\u001b[39miso_a3\u001b[39m\u001b[39m'\u001b[39m] \u001b[39m=\u001b[39m \u001b[39m'\u001b[39m\u001b[39mFRA\u001b[39m\u001b[39m'\u001b[39m\n",
      "\u001b[1;31mNameError\u001b[0m: name 'gpd' is not defined"
     ]
    }
   ],
   "source": [
    "def load_gpd_world():\n",
    "    world = gpd.read_file(gpd.datasets.get_path('naturalearth_lowres'))\n",
    "    # Fix missing country codes in data...\n",
    "    world.loc[world['name'] == 'France', 'iso_a3'] = 'FRA'\n",
    "    world.loc[world['name'] == 'Norway', 'iso_a3'] = 'NOR'\n",
    "    world.loc[world['name'] == 'Somaliland', 'iso_a3'] = 'SOM'\n",
    "    world.loc[world['name'] == 'Kosovo', 'iso_a3'] = 'RKS'\n",
    "    \n",
    "    return world\n",
    "\n",
    "world = load_gpd_world()"
   ]
  },
  {
   "cell_type": "code",
   "execution_count": null,
   "metadata": {},
   "outputs": [
    {
     "ename": "NameError",
     "evalue": "name 'cities_population' is not defined",
     "output_type": "error",
     "traceback": [
      "\u001b[1;31m---------------------------------------------------------------------------\u001b[0m",
      "\u001b[1;31mNameError\u001b[0m                                 Traceback (most recent call last)",
      "Cell \u001b[1;32mIn[12], line 2\u001b[0m\n\u001b[0;32m      1\u001b[0m \u001b[39m# Clean the Coordinate column name\u001b[39;00m\n\u001b[1;32m----> 2\u001b[0m cities_population \u001b[39m=\u001b[39m cities_population\u001b[39m.\u001b[39mrename(columns\u001b[39m=\u001b[39m{cities_population\u001b[39m.\u001b[39mcolumns[\u001b[39m-\u001b[39m\u001b[39m1\u001b[39m]:\u001b[39m'\u001b[39m\u001b[39mCoordinate\u001b[39m\u001b[39m'\u001b[39m})\n\u001b[0;32m      3\u001b[0m \u001b[39m# Only keep cities with a Coordinate\u001b[39;00m\n\u001b[0;32m      4\u001b[0m cities_population \u001b[39m=\u001b[39m cities_population\u001b[39m.\u001b[39mloc[\u001b[39m~\u001b[39mcities_population\u001b[39m.\u001b[39mCoordinate\u001b[39m.\u001b[39misna()]\n",
      "\u001b[1;31mNameError\u001b[0m: name 'cities_population' is not defined"
     ]
    }
   ],
   "source": [
    "# Clean the Coordinate column name\n",
    "cities_population = cities_population.rename(columns={cities_population.columns[-1]:'Coordinate'})\n",
    "# Only keep cities with a Coordinate\n",
    "cities_population = cities_population.loc[~cities_population.Coordinate.isna()]\n",
    "cities_population.columns = [col.replace(' ', '_') for col in cities_population.columns]\n",
    "# Transform to Numeric\n",
    "cities_population['Population'] = pd.to_numeric(cities_population['Population'])\n",
    "cities_population['Elevation'] = pd.to_numeric(cities_population['Elevation'], errors='coerce')\n",
    "cities_population['DIgital_Elevation_Model'] = pd.to_numeric(cities_population['DIgital_Elevation_Model'], errors='coerce')\n",
    "# 'NA' for Namibia interpreted as NaN...\n",
    "cities_population.loc[cities_population['Country_name_EN'] == 'Namibia', 'Country_Code'] = 'NA'\n",
    "# remove spaces from column names\n",
    "## only keep whats might be relevant for us\n",
    "cities_population = cities_population[['Name', 'Country_Code', 'Country_name_EN', 'Population', 'Elevation', 'DIgital_Elevation_Model', 'Modification_date', 'Coordinate']]"
   ]
  },
  {
   "cell_type": "code",
   "execution_count": null,
   "metadata": {},
   "outputs": [],
   "source": [
    "# Remove all trailing comma from coordinate String\n",
    "cities_population['Coordinate'] = cities_population['Coordinate'].apply(lambda x: [coordinate for coordinate in x.split(',') if len(coordinate) > 0])\n",
    "\n",
    "# Extract longitude and latitude\n",
    "long_lat_values = cities_population['Coordinate'].apply(pd.Series)\n",
    "long_lat_values.columns = ['Latitude','Longitude']\n",
    "\n",
    "# Append to dataframe\n",
    "cities_population = cities_population.merge(long_lat_values, left_index=True, right_index=True)\n",
    "cities_population = cities_population.drop(columns='Coordinate')\n",
    "\n",
    "# Transform to geopandas\n",
    "cities_population = gpd.GeoDataFrame(\n",
    "        cities_population, \n",
    "        geometry=gpd.points_from_xy(cities_population.Longitude, cities_population.Latitude),\n",
    "        crs='EPSG:4326'\n",
    ")"
   ]
  }
 ],
 "metadata": {
  "kernelspec": {
   "display_name": "Python 3",
   "language": "python",
   "name": "python3"
  },
  "language_info": {
   "codemirror_mode": {
    "name": "ipython",
    "version": 3
   },
   "file_extension": ".py",
   "mimetype": "text/x-python",
   "name": "python",
   "nbconvert_exporter": "python",
   "pygments_lexer": "ipython3",
   "version": "3.10.11"
  },
  "orig_nbformat": 4
 },
 "nbformat": 4,
 "nbformat_minor": 2
}
